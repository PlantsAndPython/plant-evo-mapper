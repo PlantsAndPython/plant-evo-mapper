{
 "cells": [
  {
   "cell_type": "markdown",
   "metadata": {},
   "source": [
    "## Applying dimension reduction to the data\n",
    "\n",
    "In this notebook, we apply two standard dimension reduction methods to the data: PCA and t-SNE. We project the 6335 dimensional gene expression data onto 2 dimensions and visualize the projections as scatter plots."
   ]
  },
  {
   "cell_type": "markdown",
   "metadata": {},
   "source": [
    "### import packages\n",
    "First thing, import all the necessary packages and methods. Most of these are commonly used python packages, that can be easily installed. We also need to import custom functions defined in `helper_functions.py`. As the name suggests, it contains several utility functions required to perform tasks such as loading and scaling input data."
   ]
  },
  {
   "cell_type": "code",
   "execution_count": null,
   "metadata": {},
   "outputs": [],
   "source": [
    "import os\n",
    "import pandas as pd\n",
    "\n",
    "# Plotting\n",
    "import matplotlib.pyplot as plt\n",
    "import matplotlib as mpl\n",
    "\n",
    "# Dimension Reduction\n",
    "from sklearn.decomposition import PCA\n",
    "from sklearn.manifold import TSNE\n",
    "\n",
    "# Helper functions\n",
    "from helper_functions import loaddata, get_color_dict"
   ]
  },
  {
   "cell_type": "markdown",
   "metadata": {},
   "source": [
    "### set paths, specify file names\n",
    "Next thing we want to do is set the paths to the directories containing `code`, `data`, and `results`. We also specify input files. The data to be analyzed is stored in two csv files. `clean_metadata.csv` contains the metadata, `clean_RNAseq_OutlierRemoved.csv` contains the gene expression data. \n",
    "\n",
    "The metadata file contains one sample per row, identified by its *SRA*. There are 3172 samples, and for each sample we have 7 descriptive attributes. We are particularly interested in three of them: namely, its plant *family*, *tissue* type and *stress* type. There are 16 different plant families, 8 tissue types and 10 stress types (including *healthy*) represented in the data. The RNAseq file, as the name suggests contains the gene expression for each sample, across a 6335 orthogroups. \n",
    "\n",
    "The third file, named `colors.pkl`, is a pickle file (that's a python specific file format!) that contains a mapping between colors (RGB and hex codes) and the different classes of the factors (*family*, *stress* and *tissue* type). Kepler mapper outputs an `html` file visualized in a browser window, other types of plots and figures are created using `seaborn` and `matplotlib`. We have set the color mapping in a file to ensure consistency across these plotting tools used in the project."
   ]
  },
  {
   "cell_type": "code",
   "execution_count": null,
   "metadata": {},
   "outputs": [],
   "source": [
    "projdir = \"../..\"\n",
    "\n",
    "datadir = projdir + \"/data\"\n",
    "factorfile = datadir + \"/clean_metadata.csv\"\n",
    "colorfile = datadir + \"/colors.pkl\"\n",
    "rnafile = datadir + \"/raw_RNAseq_OutlierRemoved.csv\"\n",
    "\n",
    "resdir = projdir + \"/results\"\n",
    "figdir = resdir + \"/dimension_reduction\"\n",
    "os.makedirs(figdir, exist_ok=True)"
   ]
  },
  {
   "cell_type": "markdown",
   "metadata": {},
   "source": [
    "### Loading data\n",
    "\n",
    "The input data (metadata and gene expression) is stored in two separate files, but samples can be matched using the *SRA*. The function `loaddata` does exactly that. It loads both files into pandas dataframes and merges them using the *SRA* as the key. We perform an inner join, to keep only those *SRAs* for which we have metadata as well as gene expression. The `get_color_dict` is another utility function which looks for an existing `color.pkl` file and loads it. If the file is not present, the function will create it and return a dictionary containing the color mappings."
   ]
  },
  {
   "cell_type": "code",
   "execution_count": null,
   "metadata": {},
   "outputs": [],
   "source": [
    "factors = [\"stress\", \"tissue\", \"family\"]\n",
    "df, orthos = loaddata(factorfile, rnafile, factors)\n",
    "color_dict = get_color_dict(df, factors, colorfile)"
   ]
  },
  {
   "cell_type": "markdown",
   "metadata": {},
   "source": [
    "### Computing projections\n",
    "\n",
    "The function defined below computes the PCA and t-SNE projections of the gene expression profiles which we then visualize as 2D scatter plots. For t-SNE projections, we use the correlation distance as metric."
   ]
  },
  {
   "cell_type": "code",
   "execution_count": null,
   "metadata": {},
   "outputs": [],
   "source": [
    "def make_projections(x):\n",
    "    proj = dict()\n",
    "\n",
    "    print(\"Computing PCA Projections...\")\n",
    "    proj[\"PCA\"] = PCA(n_components=3).fit_transform(x)\n",
    "\n",
    "    print(\"Computing t-SNE Projections...\")\n",
    "    proj[\"TSNE\"] = TSNE(n_components=3, init=\"pca\", learning_rate=\"auto\",\n",
    "                        square_distances=True,\n",
    "                        metric=\"correlation\").fit_transform(x)\n",
    "    \n",
    "    return proj\n",
    "\n",
    "projections = make_projections(df[orthos])"
   ]
  },
  {
   "cell_type": "markdown",
   "metadata": {},
   "source": [
    "### Creating scatter plots\n",
    "\n",
    "The function defined below creates the scatter plots using the PCA and t-SNE projections and paints them using specified coloring function: either by the class labels (*stress*, *tissue*, *family*), or by the lens function values."
   ]
  },
  {
   "cell_type": "code",
   "execution_count": null,
   "metadata": {},
   "outputs": [],
   "source": [
    "def make_plots(dataframe, projs, to_plot, colorby, savedir, color_dict):\n",
    "    fig = plt.figure(figsize=(18, 6))\n",
    "    gs = fig.add_gridspec(nrows=1, ncols=len(to_plot), height_ratios=[1.])\n",
    "    axs = gs.subplots()\n",
    "    for idx, mthd in enumerate(to_plot):\n",
    "        proj = projs[mthd]\n",
    "\n",
    "        if colorby in [\"stress_lens\", \"root_lens\", \"leaf_lens\"]:\n",
    "            cols = dataframe[colorby]\n",
    "            cmap = plt.get_cmap(\"viridis_r\")\n",
    "            norm = mpl.colors.Normalize(0, 1)\n",
    "            axs[idx].scatter(proj[:, 0], proj[:, 1], c=cols, s=10.0, cmap=cmap)\n",
    "        else:\n",
    "            c_map = color_dict[colorby]\n",
    "            cols = [c_map[l][\"hex\"] for l in dataframe[colorby]]\n",
    "            handles = [mpl.patches.Patch(color=c_map[l][\"hex\"], label=l)\n",
    "                                            for l in c_map.keys()]\n",
    "            axs[idx].scatter(proj[:, 0], proj[:, 1], c=cols, s=10.0)\n",
    "\n",
    "        axs[idx].set_xlabel(mthd+\" 1\")\n",
    "        axs[idx].set_ylabel(mthd+\" 2\")\n",
    "        axs[idx].set_title(mthd+\" 2D Scatter Plot\")\n",
    "\n",
    "    plt.subplots_adjust(right=0.9)\n",
    "    if colorby in [\"stress_lens\", \"root_lens\", \"leaf_lens\"]:\n",
    "        fig.colorbar(mpl.cm.ScalarMappable(norm=norm, cmap=cmap),\n",
    "                     ax=axs[-1], label=colorby)\n",
    "    else:\n",
    "        fig.legend(handles=handles, loc=\"center right\", \n",
    "                   borderaxespad=0.2, title=colorby)\n",
    "\n",
    "    figname = savedir + \"/DimReduction_ColorBy_\" + colorby + \".png\"\n",
    "    fig.savefig(figname, dpi=300, format=\"png\", bbox_inches=\"tight\",\n",
    "                pad_inches=0.1, facecolor=\"white\")\n",
    "\n",
    "    plt.show()\n",
    "\n",
    "    return None"
   ]
  },
  {
   "cell_type": "markdown",
   "metadata": {},
   "source": [
    "### Plots colored by stress, tissue, and family labels"
   ]
  },
  {
   "cell_type": "code",
   "execution_count": null,
   "metadata": {},
   "outputs": [],
   "source": [
    "to_plot = [\"PCA\", \"TSNE\"]\n",
    "for f in factors:\n",
    "    make_plots(df, projections, to_plot, f, figdir, color_dict)"
   ]
  },
  {
   "cell_type": "markdown",
   "metadata": {},
   "source": [
    "### Plots colored by lens function values\n",
    "\n",
    "Assuming we also have the lens functions values used to construct mapper graphs saved in a `.csv` file. We will use them to color the scatter plot along with different factor (*stress*, *tissue*, or *family*) class labels."
   ]
  },
  {
   "cell_type": "code",
   "execution_count": null,
   "metadata": {},
   "outputs": [],
   "source": [
    "lensfile = datadir + \"/saved_lenses.csv\"\n",
    "lenses = pd.read_csv(lensfile)\n",
    "df = df.assign(stress_lens=lenses[\"stress_lens\"],\n",
    "               root_lens=lenses[\"root_lens\"],\n",
    "               leaf_lens=lenses[\"leaf_lens\"])\n",
    "\n",
    "to_plot = [\"PCA\", \"TSNE\"]\n",
    "for f in [\"stress_lens\", \"root_lens\", \"leaf_lens\"]:\n",
    "    make_plots(df, projections, to_plot, f, figdir, color_dict)"
   ]
  }
 ],
 "metadata": {
  "interpreter": {
   "hash": "0dcc173a899865200c2fbc54094f4899681c1bb4b2e5678837bb41c328db04f7"
  },
  "kernelspec": {
   "display_name": "Python 3.8.12 ('plant-tda')",
   "language": "python",
   "name": "python3"
  },
  "language_info": {
   "codemirror_mode": {
    "name": "ipython",
    "version": 3
   },
   "file_extension": ".py",
   "mimetype": "text/x-python",
   "name": "python",
   "nbconvert_exporter": "python",
   "pygments_lexer": "ipython3",
   "version": "3.8.12"
  },
  "orig_nbformat": 4
 },
 "nbformat": 4,
 "nbformat_minor": 2
}
