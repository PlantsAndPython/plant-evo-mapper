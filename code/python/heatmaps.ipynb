{
 "cells": [
  {
   "cell_type": "markdown",
   "metadata": {},
   "source": [
    "## Creating correlation distance heat maps for samples\n",
    "\n",
    "In this notebook, we compute the matrix of pairwise correlation distances between the gene expression profiles of samples in our data and visualize the matrix as a heat map. In addition, we will use this distance matrix to compute a hierarchical clustering dendrogram of samples with average linkage clustering."
   ]
  },
  {
   "cell_type": "markdown",
   "metadata": {},
   "source": [
    "### import packages\n",
    "First thing, import all the necessary packages and methods. Most of these are commonly used python packages, that can be easily installed. We also need to import custom functions defined in `helper_functions.py`. As the name suggests, it contains several utility functions required to perform tasks such as loading and scaling input data."
   ]
  },
  {
   "cell_type": "code",
   "execution_count": null,
   "metadata": {},
   "outputs": [],
   "source": [
    "import os\n",
    "import numpy as np\n",
    "import pandas as pd\n",
    "\n",
    "# Plotting\n",
    "import matplotlib.pyplot as plt\n",
    "from matplotlib import patches\n",
    "import seaborn as sns\n",
    "from scipy.cluster.hierarchy import linkage, dendrogram\n",
    "from scipy.spatial.distance import squareform\n",
    "%matplotlib inline\n",
    "\n",
    "# Helper functions\n",
    "from helper_functions import loaddata, get_color_dict"
   ]
  },
  {
   "cell_type": "markdown",
   "metadata": {},
   "source": [
    "### set paths, specify file names\n",
    "Next thing we want to do is set the paths to the directories containing `code`, `data`, and `results`. We also specify input files. The data to be analyzed is stored in two csv files. `clean_metadata.csv` contains the metadata, `clean_RNAseq_OutlierRemoved.csv` contains the gene expression data. \n",
    "\n",
    "The metadata file contains one sample per row, identified by its *SRA*. There are 3172 samples, and for each sample we have 7 descriptive attributes. We are particularly interested in three of them: namely, its plant *family*, *tissue* type and *stress* type. There are 16 different plant families, 8 tissue types and 10 stress types (including *healthy*) represented in the data. The RNAseq file, as the name suggests contains the gene expression for each sample, across a 6335 orthogroups. \n",
    "\n",
    "The third file, named `colors.pkl`, is a pickle file (that's a python specific file format!) that contains a mapping between colors (RGB and hex codes) and the different classes of the factors (*family*, *stress* and *tissue* type). Kepler mapper outputs an `html` file visualized in a browser window, other types of plots and figures are created using `seaborn` and `matplotlib`. We have set the color mapping in a file to ensure consistency across these plotting tools used in the project."
   ]
  },
  {
   "cell_type": "code",
   "execution_count": null,
   "metadata": {},
   "outputs": [],
   "source": [
    "projdir = \"../..\"\n",
    "\n",
    "datadir = projdir + \"/data\"\n",
    "factorfile = datadir + \"/clean_metadata.csv\"\n",
    "colorfile = datadir + \"/colors.pkl\"\n",
    "rnafile = datadir + \"/raw_RNAseq_OutlierRemoved.csv\"\n",
    "\n",
    "resdir = projdir + \"/results\"\n",
    "heatmapdir = resdir + \"/heat_maps\"\n",
    "os.makedirs(heatmapdir, exist_ok=True)"
   ]
  },
  {
   "cell_type": "markdown",
   "metadata": {},
   "source": [
    "### Loading data\n",
    "\n",
    "The input data (metadata and gene expression) is stored in two separate files, but samples can be matched using the *SRA*. The function `loaddata` does exactly that. It loads both files into pandas dataframes and merges them using the *SRA* as the key. We perform an inner join, to keep only those *SRAs* for which we have metadata as well as gene expression. The `get_color_dict` is another utility function which looks for an existing `color.pkl` file and loads it. If the file is not present, the function will create it and return a dictionary containing the color mappings."
   ]
  },
  {
   "cell_type": "code",
   "execution_count": null,
   "metadata": {},
   "outputs": [],
   "source": [
    "factors = [\"stress\", \"tissue\", \"family\"]\n",
    "df, orthos = loaddata(factorfile, rnafile, factors)\n",
    "color_dict = get_color_dict(df, factors, colorfile)"
   ]
  },
  {
   "cell_type": "markdown",
   "metadata": {},
   "source": [
    "### Frequency plots\n",
    "\n",
    "To understand the distribution of class labels under each factor of interest, namely *stress*, *tissue*, and *family*, we will first visualize the frequency plots. For categorical data, the *value_counts* method of pandas is very useful."
   ]
  },
  {
   "cell_type": "code",
   "execution_count": null,
   "metadata": {},
   "outputs": [],
   "source": [
    "fig, ax = plt.subplots(1, len(factors), figsize=(15, 6))\n",
    "for i, f in enumerate(df[factors]):\n",
    "    val_counts = df[f].value_counts()\n",
    "    cols = [color_dict[f][l][\"hex\"] for l in val_counts.index]\n",
    "    val_counts.plot(kind=\"bar\", ax=ax[i], color=cols).set_title(f)\n",
    "\n",
    "figname = resdir + \"/Factor_Frequency_Plots.png\"\n",
    "fig.savefig(figname, dpi=300, format=\"png\",\n",
    "            bbox_inches=\"tight\", pad_inches=0.1, facecolor=\"white\")"
   ]
  },
  {
   "cell_type": "markdown",
   "metadata": {},
   "source": [
    "### Hierarchical clustering of samples\n",
    "\n",
    "Next, we create a dendrogram, illustrating the hierarchical clustering of the samples. We will use the correlation distance between the gene expression profiles as the clustering metric, and average linkage as the clustering method to create the dendrogram."
   ]
  },
  {
   "cell_type": "code",
   "execution_count": null,
   "metadata": {},
   "outputs": [],
   "source": [
    "def create_dendrogram(data, savepath=None, saveformat=\"png\"):\n",
    "    abscor = np.abs(np.corrcoef(data))\n",
    "    dist = 1. - abscor\n",
    "    dist_arr = squareform(dist[np.triu_indices_from(dist, 1)])\n",
    "    Z = linkage(dist_arr, 'average')\n",
    "    fig = plt.figure(figsize=(25, 10))\n",
    "    dn = dendrogram(Z)\n",
    "    plt.show()\n",
    "\n",
    "    return None\n",
    "\n",
    "create_dendrogram(df[orthos])"
   ]
  },
  {
   "cell_type": "markdown",
   "metadata": {},
   "source": [
    "### Correlation distance heat maps\n",
    "\n",
    "The function defined in the next cell allows us to visualize the correlation distance matrix as a heat map. In addition, it also puts the hierarchical average linkage clustering dendrograms on x and y axes. For a given factor (*stress*, *tissue*, or *family*), the function also shows a colorbar on the y axis to indicate the corresponding class label for the sample."
   ]
  },
  {
   "cell_type": "code",
   "execution_count": null,
   "metadata": {},
   "outputs": [],
   "source": [
    "def create_heatmap(df, data_cols, row_idx, f, color_dict,\n",
    "                    savepath=None, saveformat=\"png\"):\n",
    "    \n",
    "    c_map = color_dict[f]\n",
    "    cols = [c_map[l][\"hex\"] for l in df[f]]\n",
    "    handles = [patches.Patch(color=c_map[l][\"hex\"],\n",
    "                             label=l) for l in c_map.keys()]\n",
    "    cor = np.corrcoef(df[orthos])\n",
    "    dist = 1. - np.abs(cor)\n",
    "    dist_arr = squareform(dist[np.triu_indices_from(dist, 1)])\n",
    "    link_mat = linkage(dist_arr, 'average')\n",
    "    data = pd.DataFrame(cor, columns=row_idx)\n",
    "    cmap = sns.color_palette(\"Spectral\", as_cmap=True)\n",
    "    clust_map = sns.clustermap(data,\n",
    "                               row_cluster=True,\n",
    "                               col_cluster=True,\n",
    "                               center=0.,\n",
    "                               row_linkage=link_mat,\n",
    "                               col_linkage=link_mat,\n",
    "                               cmap=cmap,\n",
    "                               row_colors=cols,\n",
    "                               yticklabels=False,\n",
    "                               cbar_pos=(1.07, 0.51, 0.03, 0.3))\n",
    "\n",
    "    l2 = clust_map.ax_heatmap.legend(loc='center left',\n",
    "                                     bbox_to_anchor=(1.1, 0.2),\n",
    "                                     handles=handles,\n",
    "                                     frameon=True)\n",
    "    l2.set_title(title=f, prop={'size':14})\n",
    "\n",
    "    if savepath is not None:\n",
    "        clust_map.savefig(savepath, dpi=300, format=saveformat,\n",
    "                          bbox_inches=\"tight\", facecolor=\"white\")\n",
    "    \n",
    "    plt.show()\n",
    "\n",
    "    return clust_map"
   ]
  },
  {
   "cell_type": "markdown",
   "metadata": {},
   "source": [
    "#### Correlation distance heat map with family class labels"
   ]
  },
  {
   "cell_type": "code",
   "execution_count": null,
   "metadata": {},
   "outputs": [],
   "source": [
    "figpath = heatmapdir + \"/HeatMap_ColorBy_family.png\"\n",
    "_ = create_heatmap(df, orthos, df[\"sra\"], \"family\", color_dict, figpath)"
   ]
  },
  {
   "cell_type": "markdown",
   "metadata": {},
   "source": [
    "#### Correlation distance heat map with tissue class labels"
   ]
  },
  {
   "cell_type": "code",
   "execution_count": null,
   "metadata": {},
   "outputs": [],
   "source": [
    "figpath = heatmapdir + \"/HeatMap_ColorBy_tissue.png\"\n",
    "_ = create_heatmap(df, orthos, df[\"sra\"], \"tissue\", color_dict, figpath)"
   ]
  },
  {
   "cell_type": "markdown",
   "metadata": {},
   "source": [
    "#### Correlation distance heat map with stress class labels"
   ]
  },
  {
   "cell_type": "code",
   "execution_count": null,
   "metadata": {},
   "outputs": [],
   "source": [
    "figpath = heatmapdir + \"/HeatMap_ColorBy_stress.png\"\n",
    "_ = create_heatmap(df, orthos, df[\"sra\"], \"stress\", color_dict, figpath)"
   ]
  }
 ],
 "metadata": {
  "kernelspec": {
   "display_name": "Python 3.8.12 ('plant-tda')",
   "language": "python",
   "name": "python3"
  },
  "language_info": {
   "codemirror_mode": {
    "name": "ipython",
    "version": 3
   },
   "file_extension": ".py",
   "mimetype": "text/x-python",
   "name": "python",
   "nbconvert_exporter": "python",
   "pygments_lexer": "ipython3",
   "version": "3.8.12"
  },
  "vscode": {
   "interpreter": {
    "hash": "0dcc173a899865200c2fbc54094f4899681c1bb4b2e5678837bb41c328db04f7"
   }
  }
 },
 "nbformat": 4,
 "nbformat_minor": 4
}
